import subprocess
import sys
subprocess.check_call([sys.executable, "-m", "pip", "install", "pandas", "openpyxl"])
import pandas as pd
file_path = r'C:\Users\mcobp\OneDrive\Desktop\DataBreach\Data_Breach_Chronology.xlsx'
data = pd.read_excel(file_path)
print(data.head())
print("\nColumn names:")
print(data.columns.tolist())
print(f"\nShape: {data.shape[0]} rows, {data.shape[1]} columns")
print("\nBasic statistics:")
print(data.describe())